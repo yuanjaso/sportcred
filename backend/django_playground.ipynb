{
 "cells": [
  {
   "cell_type": "code",
   "execution_count": 1,
   "metadata": {},
   "outputs": [],
   "source": [
    "import requests\n",
    "import json\n",
    "URL = \"http://127.0.0.1:8000/api/v1/\""
   ]
  },
  {
   "cell_type": "code",
   "execution_count": 18,
   "metadata": {},
   "outputs": [],
   "source": [
    "def create_user(username, password, email):\n",
    "    url = URL + \"users/\"\n",
    "    res = requests.post(\n",
    "        url,\n",
    "        data={\"username\": username, \"password\": password, \"email\":email},\n",
    "        verify=False,\n",
    "    )\n",
    "    return res\n",
    "\n",
    "def auth_user(username, password):\n",
    "    url = URL + \"users/login/\"\n",
    "    res = requests.post(\n",
    "        url,\n",
    "        data={\"username\": username, \"password\": password},\n",
    "        verify=False,\n",
    "    )\n",
    "    return res\n",
    "    \n",
    "def get_users(token):\n",
    "    url = URL + \"users/\"\n",
    "    return requests.get(url,\n",
    "                        headers={\"Authorization\": \"Token \"+ token},\n",
    "                        verify=False)\n",
    "\n",
    "def get_sports(token):\n",
    "    url = URL + \"sports/\"\n",
    "    return requests.get(url,\n",
    "                        headers={\"Authorization\": \"Token \"+ token},\n",
    "                        verify=False)\n",
    "\n",
    "def get_teams(token):\n",
    "    url = URL + \"teams/\"\n",
    "    return requests.get(url,\n",
    "                        headers={\"Authorization\": \"Token \"+ token},\n",
    "                        verify=False)\n",
    "\n",
    "def get_players(token):\n",
    "    url = URL + \"players/\"\n",
    "    return requests.get(url,\n",
    "                        headers={\"Authorization\": \"Token \"+ token},\n",
    "                        verify=False)\n",
    "\n",
    "def get_questionnaire(token):\n",
    "    url = URL + \"questionnaire/\"\n",
    "    return requests.get(url,\n",
    "                        headers={\"Authorization\": \"Token \"+ token},\n",
    "                        verify=False)\n",
    "\n",
    "def get_answer(token):\n",
    "    url = URL + \"questionnaire/3/answers/\"\n",
    "    return requests.get(url,\n",
    "                        headers={\"Authorization\": \"Token \"+ token},\n",
    "                        verify=False)\n",
    "\n",
    "def submit_questionnaire_response(token, age):\n",
    "    url = URL + \"questionnaire/\"\n",
    "    return requests.post(url,\n",
    "                        headers={\"Authorization\": \"Token \"+ token},\n",
    "                        data=[{'question_id': 2, 'answer': age}],\n",
    "                        verify=False)\n",
    "\n",
    "def get_debates(token):\n",
    "    url = URL + \"debates/\"\n",
    "    res = requests.get(\n",
    "        url,\n",
    "        headers={\"Authorization\": \"Token \" + token},\n",
    "        verify=False,\n",
    "    )\n",
    "    return res"
   ]
  },
  {
   "cell_type": "code",
   "execution_count": 20,
   "metadata": {},
   "outputs": [
    {
     "data": {
      "text/plain": [
       "[{'id': 1,\n",
       "  'content': 'Who is the greatest of all time?',\n",
       "  'post_date': '2020-11-18T17:27:06.545874Z',\n",
       "  'sport': {'id': 1, 'name': 'Basketball'},\n",
       "  'title': 'Who is the greatest of all time?',\n",
       "  'num_of_comments': 3,\n",
       "  'acs_rank': 'F',\n",
       "  'has_valid_acs': True},\n",
       " {'id': 2,\n",
       "  'content': 'Best team ever?',\n",
       "  'post_date': '2020-11-18T17:27:06.951980Z',\n",
       "  'sport': {'id': 1, 'name': 'Basketball'},\n",
       "  'title': 'Best team ever?',\n",
       "  'num_of_comments': 0,\n",
       "  'acs_rank': 'F',\n",
       "  'has_valid_acs': True},\n",
       " {'id': 3,\n",
       "  'content': 'Kobe or Dirk',\n",
       "  'post_date': '2020-11-18T17:27:07.785808Z',\n",
       "  'sport': {'id': 1, 'name': 'Basketball'},\n",
       "  'title': 'Kobe or Dirk',\n",
       "  'num_of_comments': 0,\n",
       "  'acs_rank': 'A',\n",
       "  'has_valid_acs': False},\n",
       " {'id': 4,\n",
       "  'content': 'Lebron and friends',\n",
       "  'post_date': '2020-11-18T17:27:08.135320Z',\n",
       "  'sport': {'id': 1, 'name': 'Basketball'},\n",
       "  'title': 'Lebron and friends',\n",
       "  'num_of_comments': 0,\n",
       "  'acs_rank': 'P',\n",
       "  'has_valid_acs': False},\n",
       " {'id': 5,\n",
       "  'content': 'HOF criteria',\n",
       "  'post_date': '2020-11-18T17:27:08.385094Z',\n",
       "  'sport': {'id': 1, 'name': 'Basketball'},\n",
       "  'title': 'HOF criteria',\n",
       "  'num_of_comments': 0,\n",
       "  'acs_rank': 'E',\n",
       "  'has_valid_acs': False}]"
      ]
     },
     "execution_count": 20,
     "metadata": {},
     "output_type": "execute_result"
    }
   ],
   "source": [
    "res = get_debates(token)\n",
    "res.json()"
   ]
  },
  {
   "cell_type": "code",
   "execution_count": 3,
   "metadata": {},
   "outputs": [],
   "source": [
    "res = create_user(\"rick\", \"lan\", \"ricklan3@gmail.com\")"
   ]
  },
  {
   "cell_type": "code",
   "execution_count": 4,
   "metadata": {},
   "outputs": [],
   "source": [
    "token = res.json()[\"token\"]"
   ]
  },
  {
   "cell_type": "code",
   "execution_count": 10,
   "metadata": {},
   "outputs": [],
   "source": [
    "x = submit_questionnaire_response(token, 50)"
   ]
  },
  {
   "cell_type": "code",
   "execution_count": 52,
   "metadata": {},
   "outputs": [
    {
     "ename": "AttributeError",
     "evalue": "'Response' object has no attribute 'response_content'",
     "output_type": "error",
     "traceback": [
      "\u001b[0;31m---------------------------------------------------------------------------\u001b[0m",
      "\u001b[0;31mAttributeError\u001b[0m                            Traceback (most recent call last)",
      "\u001b[0;32m<ipython-input-52-45c9a90afd6d>\u001b[0m in \u001b[0;36m<module>\u001b[0;34m()\u001b[0m\n\u001b[0;32m----> 1\u001b[0;31m \u001b[0mx\u001b[0m\u001b[0;34m.\u001b[0m\u001b[0mresponse_content\u001b[0m\u001b[0;34m(\u001b[0m\u001b[0;34m)\u001b[0m\u001b[0;34m\u001b[0m\u001b[0;34m\u001b[0m\u001b[0m\n\u001b[0m",
      "\u001b[0;31mAttributeError\u001b[0m: 'Response' object has no attribute 'response_content'"
     ]
    }
   ],
   "source": [
    "x.response_content()"
   ]
  },
  {
   "cell_type": "code",
   "execution_count": 15,
   "metadata": {},
   "outputs": [
    {
     "data": {
      "text/plain": [
       "'839341b8dec1690a9ddad7c09f70736bd5b624f0'"
      ]
     },
     "execution_count": 15,
     "metadata": {},
     "output_type": "execute_result"
    }
   ],
   "source": [
    "token"
   ]
  },
  {
   "cell_type": "code",
   "execution_count": 9,
   "metadata": {},
   "outputs": [
    {
     "data": {
      "text/plain": [
       "[{'id': 1,\n",
       "  'full_name': 'Los Angeles Lakers',\n",
       "  'short_name': 'Lakers',\n",
       "  'plays_sport': {'id': 1, 'name': 'Basketball'}},\n",
       " {'id': 2,\n",
       "  'full_name': 'Toronto Raptors',\n",
       "  'short_name': 'Raptors',\n",
       "  'plays_sport': {'id': 1, 'name': 'Basketball'}},\n",
       " {'id': 3,\n",
       "  'full_name': 'Golden State Warriors',\n",
       "  'short_name': 'Warriors',\n",
       "  'plays_sport': {'id': 1, 'name': 'Basketball'}},\n",
       " {'id': 4,\n",
       "  'full_name': 'Toronto Blue Jays',\n",
       "  'short_name': 'Blue Jays',\n",
       "  'plays_sport': {'id': 2, 'name': 'Baseball'}},\n",
       " {'id': 5,\n",
       "  'full_name': 'Toronto Maple Leafs',\n",
       "  'short_name': 'leafs',\n",
       "  'plays_sport': {'id': 10, 'name': 'Hockey'}}]"
      ]
     },
     "execution_count": 9,
     "metadata": {},
     "output_type": "execute_result"
    }
   ],
   "source": [
    "res = get_teams(token)\n",
    "res.json()"
   ]
  },
  {
   "cell_type": "code",
   "execution_count": 21,
   "metadata": {},
   "outputs": [
    {
     "data": {
      "text/plain": [
       "{'details': 'Username or email already exists'}"
      ]
     },
     "execution_count": 21,
     "metadata": {},
     "output_type": "execute_result"
    }
   ],
   "source": [
    "res.json()"
   ]
  },
  {
   "cell_type": "code",
   "execution_count": 20,
   "metadata": {},
   "outputs": [
    {
     "data": {
      "text/plain": [
       "<Response [500]>"
      ]
     },
     "execution_count": 20,
     "metadata": {},
     "output_type": "execute_result"
    }
   ],
   "source": [
    "res"
   ]
  },
  {
   "cell_type": "code",
   "execution_count": 16,
   "metadata": {},
   "outputs": [
    {
     "data": {
      "text/plain": [
       "{'token': '30cb914e878cbd0b45ca6c83cb66d3c80b25a40a', 'user_id': 3}"
      ]
     },
     "execution_count": 16,
     "metadata": {},
     "output_type": "execute_result"
    }
   ],
   "source": [
    "res = auth_user(\"michael_doughs@gmail.com\", \"doughs\")\n",
    "res.json()"
   ]
  },
  {
   "cell_type": "code",
   "execution_count": 1,
   "metadata": {},
   "outputs": [],
   "source": [
    "import yaml"
   ]
  },
  {
   "cell_type": "code",
   "execution_count": 4,
   "metadata": {},
   "outputs": [],
   "source": [
    "with open(\"database_files/questionnaire.yaml\", \"r\") as file:\n",
    "    test = yaml.load(file.read())"
   ]
  },
  {
   "cell_type": "code",
   "execution_count": 5,
   "metadata": {},
   "outputs": [
    {
     "data": {
      "text/plain": [
       "{'QuestionnaireQuestion': [{'content': 'Favorite sport?',\n",
       "   'question_type': 'S'},\n",
       "  {'content': 'What is your age?',\n",
       "   'question_type': 'QN',\n",
       "   'max_int': 130,\n",
       "   'min_int': 0},\n",
       "  {'content': 'Highest level of sport play?', 'question_type': 'C'},\n",
       "  {'content': 'What sport would you like to know/learn about?',\n",
       "   'question_type': 'S'},\n",
       "  {'content': 'Favourite sports team?', 'question_type': 'T'}],\n",
       " 'QuestionnaireAnswer': [{'original_question': 'Highest level of sport play?',\n",
       "   'answer': 'No history'},\n",
       "  {'original_question': 'Highest level of sport play?',\n",
       "   'answer': 'High school'},\n",
       "  {'original_question': 'Highest level of sport play?',\n",
       "   'answer': 'Universtity'},\n",
       "  {'original_question': 'Highest level of sport play?',\n",
       "   'answer': 'Professional'}]}"
      ]
     },
     "execution_count": 5,
     "metadata": {},
     "output_type": "execute_result"
    }
   ],
   "source": [
    "test"
   ]
  },
  {
   "cell_type": "code",
   "execution_count": 35,
   "metadata": {},
   "outputs": [],
   "source": [
    "x = [{'a':1, 'b':2}]"
   ]
  },
  {
   "cell_type": "code",
   "execution_count": 38,
   "metadata": {},
   "outputs": [
    {
     "name": "stdout",
     "output_type": "stream",
     "text": [
      "{'a': 1, 'b': 2}\n",
      "1\n"
     ]
    }
   ],
   "source": [
    "for item in x:\n",
    "    print(item)\n",
    "    print(item['a'])"
   ]
  },
  {
   "cell_type": "code",
   "execution_count": null,
   "metadata": {},
   "outputs": [],
   "source": []
  }
 ],
 "metadata": {
  "kernelspec": {
   "display_name": "Python 3",
   "language": "python",
   "name": "python3"
  },
  "language_info": {
   "codemirror_mode": {
    "name": "ipython",
    "version": 3
   },
   "file_extension": ".py",
   "mimetype": "text/x-python",
   "name": "python",
   "nbconvert_exporter": "python",
   "pygments_lexer": "ipython3",
   "version": "3.7.3"
  }
 },
 "nbformat": 4,
 "nbformat_minor": 2
}
