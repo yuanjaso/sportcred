{
 "cells": [
  {
   "cell_type": "code",
   "execution_count": 4,
   "metadata": {},
   "outputs": [],
   "source": [
    "import requests\n",
    "URL = \"http://127.0.0.1:8000/api/v1/\""
   ]
  },
  {
   "cell_type": "code",
   "execution_count": 18,
   "metadata": {},
   "outputs": [],
   "source": [
    "def create_user(username, password, email):\n",
    "    url = URL + \"users/\"\n",
    "    res = requests.post(\n",
    "        url,\n",
    "        data={\"username\": username, \"password\": password, \"email\":email},\n",
    "        verify=False,\n",
    "    )\n",
    "    return res\n",
    "\n",
    "def auth_user(username, password):\n",
    "    url = URL + \"users/login/\"\n",
    "    res = requests.post(\n",
    "        url,\n",
    "        data={\"username\": username, \"password\": password},\n",
    "        verify=False,\n",
    "    )\n",
    "    return res\n",
    "    \n",
    "def get_users(token):\n",
    "    url = URL + \"users/\"\n",
    "    return requests.get(url,\n",
    "                        headers={\"Authorization\": \"Token \"+ token},\n",
    "                        verify=False)"
   ]
  },
  {
   "cell_type": "code",
   "execution_count": 52,
   "metadata": {},
   "outputs": [],
   "source": [
    "res = create_user(\"meewqeaee\", \"doughs\", \"daeaewqaea@gmail.com\")"
   ]
  },
  {
   "cell_type": "code",
   "execution_count": 53,
   "metadata": {},
   "outputs": [
    {
     "data": {
      "text/plain": [
       "{'token': '3f8b6d3c89fa6690be8bb8dd279868273b4dec07',\n",
       " 'user_id': 6,\n",
       " 'username': 'meewqeaee',\n",
       " 'email': 'daeaewqaea@gmail.com'}"
      ]
     },
     "execution_count": 53,
     "metadata": {},
     "output_type": "execute_result"
    }
   ],
   "source": [
    "res.json()"
   ]
  },
  {
   "cell_type": "code",
   "execution_count": 13,
   "metadata": {},
   "outputs": [
    {
     "data": {
      "text/plain": [
       "401"
      ]
     },
     "execution_count": 13,
     "metadata": {},
     "output_type": "execute_result"
    }
   ],
   "source": [
    "res = auth_user(\"michael\", \"\")\n",
    "res.status_code"
   ]
  },
  {
   "cell_type": "code",
   "execution_count": 27,
   "metadata": {},
   "outputs": [
    {
     "data": {
      "text/plain": [
       "<Response [401]>"
      ]
     },
     "execution_count": 27,
     "metadata": {},
     "output_type": "execute_result"
    }
   ],
   "source": [
    "res = get_users(\"30cb914e878ecbd0b45a683cb66d3c80b25a40a\")\n",
    "res"
   ]
  },
  {
   "cell_type": "code",
   "execution_count": 26,
   "metadata": {},
   "outputs": [
    {
     "data": {
      "text/plain": [
       "{'count': 2,\n",
       " 'next': None,\n",
       " 'previous': None,\n",
       " 'results': [{'id': 2, 'username': 'bbb', 'email': 'test@example.com'},\n",
       "  {'id': 3, 'username': 'michael', 'email': 'michael_doughs@gmail.com'}]}"
      ]
     },
     "execution_count": 26,
     "metadata": {},
     "output_type": "execute_result"
    }
   ],
   "source": [
    "res.json()"
   ]
  },
  {
   "cell_type": "code",
   "execution_count": 20,
   "metadata": {},
   "outputs": [
    {
     "data": {
      "text/plain": [
       "<Response [500]>"
      ]
     },
     "execution_count": 20,
     "metadata": {},
     "output_type": "execute_result"
    }
   ],
   "source": [
    "res"
   ]
  },
  {
   "cell_type": "code",
   "execution_count": 16,
   "metadata": {},
   "outputs": [
    {
     "data": {
      "text/plain": [
       "{'token': '30cb914e878cbd0b45ca6c83cb66d3c80b25a40a', 'user_id': 3}"
      ]
     },
     "execution_count": 16,
     "metadata": {},
     "output_type": "execute_result"
    }
   ],
   "source": [
    "res = auth_user(\"michael_doughs@gmail.com\", \"doughs\")\n",
    "res.json()"
   ]
  },
  {
   "cell_type": "code",
   "execution_count": 1,
   "metadata": {},
   "outputs": [],
   "source": [
    "import yaml"
   ]
  },
  {
   "cell_type": "code",
   "execution_count": 4,
   "metadata": {},
   "outputs": [],
   "source": [
    "with open(\"database_files/questionnaire.yaml\", \"r\") as file:\n",
    "    test = yaml.load(file.read())"
   ]
  },
  {
   "cell_type": "code",
   "execution_count": 5,
   "metadata": {},
   "outputs": [
    {
     "data": {
      "text/plain": [
       "{'QuestionnaireQuestion': [{'content': 'Favorite sport?',\n",
       "   'question_type': 'S'},\n",
       "  {'content': 'What is your age?',\n",
       "   'question_type': 'QN',\n",
       "   'max_int': 130,\n",
       "   'min_int': 0},\n",
       "  {'content': 'Highest level of sport play?', 'question_type': 'C'},\n",
       "  {'content': 'What sport would you like to know/learn about?',\n",
       "   'question_type': 'S'},\n",
       "  {'content': 'Favourite sports team?', 'question_type': 'T'}],\n",
       " 'QuestionnaireAnswer': [{'original_question': 'Highest level of sport play?',\n",
       "   'answer': 'No history'},\n",
       "  {'original_question': 'Highest level of sport play?',\n",
       "   'answer': 'High school'},\n",
       "  {'original_question': 'Highest level of sport play?',\n",
       "   'answer': 'Universtity'},\n",
       "  {'original_question': 'Highest level of sport play?',\n",
       "   'answer': 'Professional'}]}"
      ]
     },
     "execution_count": 5,
     "metadata": {},
     "output_type": "execute_result"
    }
   ],
   "source": [
    "test"
   ]
  }
 ],
 "metadata": {
  "kernelspec": {
   "display_name": "Python 3",
   "language": "python",
   "name": "python3"
  },
  "language_info": {
   "codemirror_mode": {
    "name": "ipython",
    "version": 3
   },
   "file_extension": ".py",
   "mimetype": "text/x-python",
   "name": "python",
   "nbconvert_exporter": "python",
   "pygments_lexer": "ipython3",
   "version": "3.7.3"
  }
 },
 "nbformat": 4,
 "nbformat_minor": 2
}
